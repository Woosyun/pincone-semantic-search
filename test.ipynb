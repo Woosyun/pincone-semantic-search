{
 "cells": [
  {
   "cell_type": "code",
   "execution_count": 1,
   "id": "abafd399",
   "metadata": {},
   "outputs": [
    {
     "name": "stderr",
     "output_type": "stream",
     "text": [
      "C:\\Users\\woo\\anaconda3\\lib\\site-packages\\pinecone\\index.py:4: TqdmExperimentalWarning: Using `tqdm.autonotebook.tqdm` in notebook mode. Use `tqdm.tqdm` instead to force console mode (e.g. in jupyter console)\n",
      "  from tqdm.autonotebook import tqdm\n"
     ]
    }
   ],
   "source": [
    "import requests\n",
    "from bs4 import BeautifulSoup as bs\n",
    "import pinecone\n",
    "import openai\n",
    "import os\n",
    "import tensorflow_hub as hub"
   ]
  },
  {
   "cell_type": "code",
   "execution_count": 39,
   "id": "9ea7204e",
   "metadata": {},
   "outputs": [],
   "source": [
    "def main(page_index, page_size):\n",
    "    texts = scrap(page_index, page_size)\n",
    "    \n",
    "#     texts_summarized = []\n",
    "#     for i in texts:\n",
    "#         texts_summarized.append(text_summary(i))\n",
    "    \n",
    "    store_check = store_to_pinecone(texts)\n",
    "    if not store_check:\n",
    "        print(\"문제 발생!!\")"
   ]
  },
  {
   "cell_type": "code",
   "execution_count": 45,
   "id": "5165fe8e",
   "metadata": {
    "scrolled": true
   },
   "outputs": [
    {
     "ename": "AttributeError",
     "evalue": "module 'tensorflow_hub' has no attribute 'snapshot_download'",
     "output_type": "error",
     "traceback": [
      "\u001b[1;31m---------------------------------------------------------------------------\u001b[0m",
      "\u001b[1;31mAttributeError\u001b[0m                            Traceback (most recent call last)",
      "\u001b[1;32m~\\AppData\\Local\\Temp\\ipykernel_26404\\2064093182.py\u001b[0m in \u001b[0;36m<module>\u001b[1;34m\u001b[0m\n\u001b[1;32m----> 1\u001b[1;33m \u001b[0mmain\u001b[0m\u001b[1;33m(\u001b[0m\u001b[1;36m1\u001b[0m\u001b[1;33m,\u001b[0m \u001b[1;36m10\u001b[0m\u001b[1;33m)\u001b[0m\u001b[1;33m\u001b[0m\u001b[1;33m\u001b[0m\u001b[0m\n\u001b[0m\u001b[0;32m      2\u001b[0m \u001b[1;33m\u001b[0m\u001b[0m\n\u001b[0;32m      3\u001b[0m \u001b[1;33m\u001b[0m\u001b[0m\n\u001b[0;32m      4\u001b[0m \u001b[1;33m\u001b[0m\u001b[0m\n\u001b[0;32m      5\u001b[0m \u001b[1;33m\u001b[0m\u001b[0m\n",
      "\u001b[1;32m~\\AppData\\Local\\Temp\\ipykernel_26404\\1862571324.py\u001b[0m in \u001b[0;36mmain\u001b[1;34m(page_index, page_size)\u001b[0m\n\u001b[0;32m      6\u001b[0m \u001b[1;31m#         texts_summarized.append(text_summary(i))\u001b[0m\u001b[1;33m\u001b[0m\u001b[1;33m\u001b[0m\u001b[1;33m\u001b[0m\u001b[0m\n\u001b[0;32m      7\u001b[0m \u001b[1;33m\u001b[0m\u001b[0m\n\u001b[1;32m----> 8\u001b[1;33m     \u001b[0mstore_check\u001b[0m \u001b[1;33m=\u001b[0m \u001b[0mstore_to_pinecone\u001b[0m\u001b[1;33m(\u001b[0m\u001b[0mtexts\u001b[0m\u001b[1;33m)\u001b[0m\u001b[1;33m\u001b[0m\u001b[1;33m\u001b[0m\u001b[0m\n\u001b[0m\u001b[0;32m      9\u001b[0m     \u001b[1;32mif\u001b[0m \u001b[1;32mnot\u001b[0m \u001b[0mstore_check\u001b[0m\u001b[1;33m:\u001b[0m\u001b[1;33m\u001b[0m\u001b[1;33m\u001b[0m\u001b[0m\n\u001b[0;32m     10\u001b[0m         \u001b[0mprint\u001b[0m\u001b[1;33m(\u001b[0m\u001b[1;34m\"문제 발생!!\"\u001b[0m\u001b[1;33m)\u001b[0m\u001b[1;33m\u001b[0m\u001b[1;33m\u001b[0m\u001b[0m\n",
      "\u001b[1;32m~\\AppData\\Local\\Temp\\ipykernel_26404\\4283577480.py\u001b[0m in \u001b[0;36mstore_to_pinecone\u001b[1;34m(texts)\u001b[0m\n\u001b[0;32m     10\u001b[0m     )\n\u001b[0;32m     11\u001b[0m \u001b[1;33m\u001b[0m\u001b[0m\n\u001b[1;32m---> 12\u001b[1;33m     \u001b[0mmodel_path\u001b[0m \u001b[1;33m=\u001b[0m \u001b[0mhub\u001b[0m\u001b[1;33m.\u001b[0m\u001b[0msnapshot_download\u001b[0m\u001b[1;33m(\u001b[0m\u001b[0mrepo_id\u001b[0m\u001b[1;33m=\u001b[0m\u001b[1;34m\"Dimitre/universal-sentence-encoder\"\u001b[0m\u001b[1;33m)\u001b[0m\u001b[1;33m\u001b[0m\u001b[1;33m\u001b[0m\u001b[0m\n\u001b[0m\u001b[0;32m     13\u001b[0m     \u001b[0mmodel\u001b[0m \u001b[1;33m=\u001b[0m  \u001b[0mKerasLayer\u001b[0m\u001b[1;33m(\u001b[0m\u001b[0mhandle\u001b[0m\u001b[1;33m=\u001b[0m\u001b[0mmodel_path\u001b[0m\u001b[1;33m)\u001b[0m\u001b[1;33m\u001b[0m\u001b[1;33m\u001b[0m\u001b[0m\n\u001b[0;32m     14\u001b[0m \u001b[1;33m\u001b[0m\u001b[0m\n",
      "\u001b[1;31mAttributeError\u001b[0m: module 'tensorflow_hub' has no attribute 'snapshot_download'"
     ]
    }
   ],
   "source": [
    "\n",
    "\n",
    "\n",
    "\n",
    "\n",
    "main(1, 10)\n",
    "\n",
    "\n",
    "\n",
    "\n"
   ]
  },
  {
   "cell_type": "code",
   "execution_count": 2,
   "id": "187fe9a4",
   "metadata": {},
   "outputs": [],
   "source": [
    "def scrap(page_index, page_size):\n",
    "    url = \""\n",
    "    params = {\n",
    "        \"Key\": \"\",\n",
    "        \"Type\": \"json\",\n",
    "        \"pIndex\": page_index,\n",
    "        \"pSize\": page_size,\n",
    "        \"Age\": '21',\n",
    "    }\n",
    "    response = requests.get(url, params=params)\n",
    "    \n",
    "    #딕셔너리와 리스트가 다중으로 사용되어 그 중 내용이 담긴 리스트로 정제하는 과정\n",
    "    re = response.json()\n",
    "    re2 = list(re.values())\n",
    "    re3 = re2[0][1]\n",
    "    re4 = re3['row']\n",
    "    \n",
    "    #타이틀과 제안이유 및 중요내용이 담긴 텍스트 추출\n",
    "    result_contents = []\n",
    "    for i in re4:\n",
    "        link = i['DETAIL_LINK']\n",
    "        title = i['BILL_NAME']\n",
    "        response = requests.get(link)\n",
    "        soup = bs(response.content, 'html.parser')\n",
    "        data = soup.find('div', {'class', 'textType02'}).text\n",
    "        data.strip()\n",
    "        result_contents.append(data)\n",
    "    \n",
    "    return result_contents"
   ]
  },
  {
   "cell_type": "code",
   "execution_count": 3,
   "id": "325f8aa2",
   "metadata": {},
   "outputs": [],
   "source": [
    "t = scrap(1, 5)"
   ]
  },
  {
   "cell_type": "code",
   "execution_count": 5,
   "id": "3db2d4ce",
   "metadata": {},
   "outputs": [
    {
     "name": "stdout",
     "output_type": "stream",
     "text": [
      "\r\n",
      "\t\t\t\t\t\t\t제안이유 및 주요내용\n",
      "\n",
      "  현행법은 지방자치단체의 재정력 격차를 완화하기 위하여 내국세 일부를 지방자치단체에 보통교부세·특별교부세·부동산교부세？소방안전교부세 등의 지방교부세로 교부하도록 규정하고 있음.\n",
      "  그런데 「지방자치법」에 따라 2개 이상의 지방자치단체가 관련된 사무의 일부를 공동으로 처리할 필요가 있을 때는 행정협의회를 구성·운영할 수 있고, 2개 이상의 지방자치단체가 특정한 목적을 위하여 광역적으로 사무를 처리할 필요가 있을 때는 특별지방자치단체를 설치·운영할 수 있는데, 현행 「지방교부세법」에 따른 지방자치단체의 정의에 행정협의회와 특별지방자치단체가 명시되지 않아 지방교부세 교부대상 여부가 명확하지 않다는 지적이 있음.\n",
      "  이에 광역행정수요에 효과적으로 대응할 수 있도록 행정협의회와 특별자치단체도 지방교부세 대상에 포함되도록 현행법상의 지방자치단체에 행정협의회와 특별지방자치단체를 명시하려는 것임(안 제2조제2호).\r\n",
      "\t\t\t\t\t\t\n",
      "\r\n",
      "\t\t\t\t\t\t\t제안이유 및 주요내용\n",
      "\n",
      "  현행법은 보조금, 사무위임 경비 및 조정교부금의 교부에 관한 규정을 두어 시·도가 정책상 필요하다고 인정할 때 또는 시·군 및 자치구의 재정 사정상 특히 필요하다고 인정할 때에는 보조금을, 시·군 및 자치구에 사무를 위임할 때에는 그 경비를, 재정적 격차를 조정하기 위해서는 조정교부금을 시·군 등에 교부하도록 규정하고 있음.\n",
      "  그런데 「지방자치법」에 따라 2개 이상의 지방자치단체가 공동으로 특정한 목적을 위하여 광역적으로 사무를 처리하기 위하여 설치하는 특별지방자치단체는 보조금, 사무위임 경비 및 조정교부금의 지급대상에서 제외되어 있는데, 특별지방자치단체의 재정 건전성과 자율성을 보장하기 위해서는 재정지원이 필요하므로 특별지방자치단체에 대한 보조금, 사무위임 경비 및 조정교부금의 지급근거를 마련하여야 한다는 의견이 제기되고 있음.\n",
      "  이에 특별지방자치단체에 대하여도 보조금, 사무위임 경비 및 조정교부금을 지급할 수 있도록 관련 조문을 정비하려는 것임(안 제23조, 제28조 및 제29조).\r\n",
      "\t\t\t\t\t\t\n",
      "\r\n",
      "\t\t\t\t\t\t\t제안이유 및 주요내용\n",
      "\n",
      "  경찰청장이 보호구역의 교통 환경 등의 정보를 수집·관리 및 공개하기 위하여 보호구역 통합관리시스템 구축·운영하도록 하는 개정 도로교통법이 ’23.7.4. 시행을 앞두고 있음.\n",
      " 그러나 경찰청에는 보호구역 통합관리시스템이 구축되어 있지 않아 예산 절감 및 사업의 원활한 시행 등을 위해서는 교통관련 전문기관이 기구축해 놓은 시스템을 활용할 필요가 있으나 관련 법적 근거가 미비한 상황임.\n",
      " 한편, 시장등이 보호구역에 대한 실태조사를 실시하도록 한 개정도로교통법은 ’24. 1. 1. 시행을 앞두고 있으나, 교통사고 현황 등 교통환경에 대한 실태조사 내용을 체계적으로 관리·활용하기 위해서는 그 결과를 보호구역 통합관리시스템에 입력하도록 할 필요가 있음.\n",
      "  이에 시장등이 보호구역에 대한 실태조사에서 조사된 내용 등을 보호구역 통합관리시스템에 입력하도록 하고, 경찰청장이 보호구역 통합관리시스템의 구축·운영 업무를 대통령령으로 정하는 바에 따라 도로교통공단 또는 교통 관련 전문기관에 위탁할 수 있도록 하여 체계적인 보호구역 운영관리를 도모하려는 것임(안 제12조의3제3항 및 제4항 신설).\r\n",
      "\t\t\t\t\t\t\n",
      "\r\n",
      "\t\t\t\t\t\t\t제안이유 및 주요내용\n",
      "\n",
      "  현행법은 군인의 공무수행 과정에서 발생한 부상·질병·장해·사망을 공무상 재해로 인정하여 이에 대한 적합한 보상을 하되, 공무와 재해 사이에 상당한 인과관계가 없는 경우에는 공무상 재해로 인정하지 않도록 규정하고 있음.\n",
      "  공무수행으로 상당기간 유해하거나 위험한 요인에 노출된 군인이 그로 인한 질병으로 장해를 입거나 사망한 경우 군인 본인 또는 그 유가족이 공무와 재해 사이의 인과관계를 증명해야 하는데, 의학 등에 관한 전문지식이나 정보가 없는 군인 및 유가족은 그 인과관계를 입증하기가 어렵고, 입증 과정에서 정신적·경제적 부담까지 가중되고 있는 상황임.\n",
      " 한편, 현행법은 임신중인 군인이 공무수행과정에서 사고가 발생하거나 유해·위험요인에 노출되어 출산한 자녀에게 부상, 질병 또는 장해가 발생하거나 그 자녀가 사망한 경우 공무상 재해로 인정하지 않아 적절한 보상체계 마련이 시급한 상황임. \n",
      "  이에 유해하거나 위험한 환경에서 공무를 수행하는 군인이 공무수행 과정에서 상당기간 유해·위험 요인에 노출되어 질병에 걸리는 경우와 그 질병으로 장해를 입거나 사망한 경우뿐만 아니라 임신 중인 군인이 공무수행과정에서 부상을 당하거나 유해·위험요인에 노출되어 출산한 자녀가 질병에 걸리거나 사망한 경우에도 공무상 재해로 인정함으로써 군인 및 유가족의 공무상 재해 입증 책임 부담을 경감하고, 공무원 및 그 유족의 복지 향상에 이바지하려는 것임(안 제4조의2 및 제4조의3 신설).\r\n",
      "\t\t\t\t\t\t\n",
      "\r\n",
      "\t\t\t\t\t\t\t제안이유 및 주요내용\n",
      "\n",
      "  현행법은 아동학대를 「아동복지법」 제3조제7호에 따른 아동학대, 즉 보호자를 포함한 성인에 의한 학대로 규정하는데 반해 아동학대범죄는 보호자에 의한 아동학대로 규정하고 있음.\n",
      "  이로 인해 보호자 아닌 제3자가 아동학대를 저지를 경우에는 아동학대범죄에 해당하지 않아 아동학대 가해자가 아동관련기관 취업제한을 받지 않는 사례가 발생하고 있음.\n",
      "  이에 아동학대범죄에 보호자에 의한 범죄만이 아니라 보호자 아닌 성인에 의한 범죄도 포함하도록 하여 법의 사각지대를 해소하려는 것임(안 제2조제4호).\r\n",
      "\t\t\t\t\t\t\n"
     ]
    }
   ],
   "source": [
    "for i in t:\n",
    "    print(i)"
   ]
  },
  {
   "cell_type": "code",
   "execution_count": 6,
   "id": "4453e573",
   "metadata": {},
   "outputs": [],
   "source": [
    "#chatgpt 이용해서 요약\n",
    "\n",
    "openai.api_key  = ''\n",
    "def text_summary(text, model=\"gpt-3.5-turbo\"): \n",
    "    \n",
    "    prompt = f\"\"\"\n",
    "    Your task is to generate a short summary of the reason for the proposals and of the main contents\\\n",
    "    in the text which is obtained from Parliament's website.\n",
    "    text is delimited by triple backticks.\n",
    "    you have to summarize it in at most 3 short sentences in korean.\n",
    "\n",
    "    text: ```{text}```\n",
    "    \"\"\"\n",
    "    \n",
    "    messages = [{\"role\": \"user\", \"content\": prompt}]\n",
    "    response = openai.ChatCompletion.create(\n",
    "        model=model,\n",
    "        messages=messages,\n",
    "        temperature=0,\n",
    "    )\n",
    "    return response.choices[0].message[\"content\"]"
   ]
  },
  {
   "cell_type": "code",
   "execution_count": 7,
   "id": "4ddd1419",
   "metadata": {},
   "outputs": [],
   "source": [
    "a = text_summary(t[4])"
   ]
  },
  {
   "cell_type": "code",
   "execution_count": 9,
   "id": "213da2e2",
   "metadata": {},
   "outputs": [
    {
     "name": "stdout",
     "output_type": "stream",
     "text": [
      "\r\n",
      "\t\t\t\t\t\t\t제안이유 및 주요내용\n",
      "\n",
      "  현행법은 아동학대를 「아동복지법」 제3조제7호에 따른 아동학대, 즉 보호자를 포함한 성인에 의한 학대로 규정하는데 반해 아동학대범죄는 보호자에 의한 아동학대로 규정하고 있음.\n",
      "  이로 인해 보호자 아닌 제3자가 아동학대를 저지를 경우에는 아동학대범죄에 해당하지 않아 아동학대 가해자가 아동관련기관 취업제한을 받지 않는 사례가 발생하고 있음.\n",
      "  이에 아동학대범죄에 보호자에 의한 범죄만이 아니라 보호자 아닌 성인에 의한 범죄도 포함하도록 하여 법의 사각지대를 해소하려는 것임(안 제2조제4호).\r\n",
      "\t\t\t\t\t\t\n",
      "\n",
      "=>\n",
      "\n",
      "아동학대범죄는 보호자에 의한 범죄만을 규정하고 있어, 보호자가 아닌 제3자가 아동학대를 저지를 경우 법적 제재를 받지 못하는 문제가 있음. 이에 제3자에 의한 아동학대범죄도 포함하도록 법 개정을 제안하는 것임.\n"
     ]
    }
   ],
   "source": [
    "print(t[4])\n",
    "print(\"\\n=>\\n\")\n",
    "print(a)"
   ]
  },
  {
   "cell_type": "code",
   "execution_count": 44,
   "id": "293df87a",
   "metadata": {},
   "outputs": [],
   "source": [
    "def store_to_pinecone(texts):\n",
    "    # get api key from app.pinecone.io\n",
    "    PINECONE_API_KEY = os.environ.get('') or ''\n",
    "    # find your environment next to the api key in pinecone console\n",
    "    PINECONE_ENV = os.environ.get('') or ''\n",
    "\n",
    "    pinecone.init(\n",
    "        api_key=PINECONE_API_KEY,\n",
    "        environment=PINECONE_ENV\n",
    "    )\n",
    "    \n",
    "    model_path = hub.snapshot_download(repo_id=\"Dimitre/universal-sentence-encoder\")\n",
    "    model =  KerasLayer(handle=model_path)\n",
    "\n",
    "    index_name = 'mefeto'\n",
    "\n",
    "    # now connect to the index\n",
    "    index = pinecone.Index(index_name)\n",
    "\n",
    "    #texts는 scrap의 return value\n",
    "    m = len(texts)\n",
    "    #make list of index\n",
    "    ids = [f\"\"\"{j}\"\"\" for j in range(m)]\n",
    "    #make list of metadata == 원문\n",
    "    metadatas = [{'text': text} for text in texts]\n",
    "    # create embeddings vector\n",
    "    xc = model.encode(texts).tolist()\n",
    "    # create records list for upsert\n",
    "    records = zip(ids, xc, metadatas)\n",
    "    # upsert to Pinecone\n",
    "    res = index.upsert(vectors=records)\n",
    "    \n",
    "    # res는 upsert가 되었는지 안되었는지 boolean value를 리턴\n",
    "    return res"
   ]
  },
  {
   "cell_type": "code",
   "execution_count": null,
   "id": "cf6cea6d",
   "metadata": {},
   "outputs": [],
   "source": []
  },
  {
   "cell_type": "code",
   "execution_count": 25,
   "id": "45ad7a42",
   "metadata": {},
   "outputs": [],
   "source": [
    "#query와 유사한 벡터를 리턴, k : 유사한 벡터를 몇 개 추출할건지 결정하는 변수\n",
    "# metadata가 찾고자 하는 원문\n",
    "\n",
    "def query_to_pinecone(query, k):\n",
    "    # get api key from app.pinecone.io\n",
    "    PINECONE_API_KEY = os.environ.get('') or ''\n",
    "    # find your environment next to the api key in pinecone console\n",
    "    PINECONE_ENV = os.environ.get('') or ''\n",
    "    pinecone.init(\n",
    "        api_key=PINECONE_API_KEY,\n",
    "        environment=PINECONE_ENV\n",
    "    )\n",
    "\n",
    "#     device = 'cuda' if torch.cuda.is_available() else 'cpu'\n",
    "#     if device != 'cuda':\n",
    "#         print(f\"You are using {device}. This is much slower than using \"\n",
    "#               \"a CUDA-enabled GPU. If on Colab you can change this by \"\n",
    "#               \"clicking Runtime > Change runtime type > GPU.\")\n",
    "\n",
    "#     model = SentenceTransformer('all-MiniLM-L6-v2', device=device)\n",
    "    \n",
    "    model_path = snapshot_download(repo_id=\"Dimitre/universal-sentence-encoder\")\n",
    "    model =  KerasLayer(handle=model_path)\n",
    "    \n",
    "    index_name = 'test'\n",
    "    index = pinecone.Index(index_name)\n",
    "\n",
    "    \n",
    "    \n",
    "    # create the query vector\n",
    "    xq = model.encode(query).tolist()\n",
    "    # now query\n",
    "    xc = index.query(xq, top_k=k, include_metadata=True)\n",
    "    \n",
    "    result = []\n",
    "    for re in xc['matches']:\n",
    "        result.append(re['metadata']['text'])\n",
    "    return result\n",
    "#     for re in xc['matches']:\n",
    "#         print(f\"{round(re['score'], 2)}: {re['metadata']['text']}\")"
   ]
  },
  {
   "cell_type": "code",
   "execution_count": 10,
   "id": "a3d64537",
   "metadata": {
    "collapsed": true
   },
   "outputs": [
    {
     "name": "stdout",
     "output_type": "stream",
     "text": [
      "You are using cpu. This is much slower than using a CUDA-enabled GPU. If on Colab you can change this by clicking Runtime > Change runtime type > GPU.\n",
      "\n",
      "\t\t\t\t\t\t\t제안이유 및 주요내용\n",
      "\n",
      "  현행법은 근로자가 인공수정 또는 체외수정 등 난임치료를 받기 위하여 휴가(이하 “난임치료휴가”라 한다)를 청구하는 경우에 사업주는 연간 3일 이내의 휴가를 주어야 하며, 이 경우 최초 1일은 유급으로 사용할 수 있도록 하고 있음.\n",
      "  그런데 보건복지부 자료에 의하면, 난임치료한 자 중 52%가 21일 이상 치료받은 것으로 나타나 난임치료휴가 제도가 현실을 반영한 것인지 의문이 제기되어 이를 현실에 맞게 조정하여야 한다는 의견이 있음. \n",
      "  이에 난임치료휴가 기간을 3일에서 10일로 연장하고 휴가 기간 전부를 유급으로 하여 난임으로 고통받고 있는 근로자가 안정적으로 치료를 받을 수 있도록 하려는 것임(안 제18조의3제1항).\n",
      "\t\t\t\t\t\t\n",
      "\n",
      "\t\t\t\t\t\t\t제안이유 및 주요내용\n",
      "\n",
      "  최근 30여년 가까이 의사면허 없이 의료행위를 한 사람이 적발됨에 따라 의료인 면허가 없는 사람이 의료인 행세를 하며 의료기관에 취업하는 일이 발생해서는 아니 된다는 의견이 제기되고 있음. 그러나 현재 보건의료인 등의 면허(자격) 등록사항 조회를 통해 확인할 수 있는 정보에는 한계가 있는 상황임. \n",
      "  이에 무자격자의 의료기관 취업을 방지하기 위해 의료기관 개설자가 의료인을 채용하는 경우 면허 사항을 확인할 수 있도록 보건복지부장관이 시스템을 구축ㆍ운영하도록 하려는 것임. \n",
      "  또한 채용대상이 되는 의료인은 면허에 대한 증면서를 의료기관 개설자에게 제출하도록 하고, 의료기관 개설자는 진위 여부를 확인하도록 하는 근거를 마련하고자 함(안 제4조의4 신설).\n",
      "\t\t\t\t\t\t\n",
      "\n",
      "\t\t\t\t\t\t\t제안이유 및 주요내용\n",
      "\n",
      "  현행법 제8조는 임차인이 보증금 중 일정액을 다른 담보물권자보다 우선하여 변제받을 권리를 인정해 소액임차인의 재산권을 보호하고자 하고 있음. 그러나, 최근 전세사기 사례에서는 소액임차인이 재계약 시 소액임차인의 범위를 넘어섬에도 불구하고 이를 인지하지 못한 채 재계약을 진행해 최우선변제금 대상이 되지 못하는 사례들이 발생하고 있음. 또한, 소액임차인의 최우선변제금이 임차인의 계약시점이 아닌, 해당 주택의 선순위근저당권 설정 당시의 최우선변제금이 적용되어 기대 변제 받을 액수보다 낮은 액수를 받는 사례들이 발생하고 있음. \n",
      "  이에 소액임차인이 재계약을 통해 시행령에서 규정하는 소액임차인의 범위를 넘어서 최우선변제금의 대상이 되지 못하는 경우를 방지하고, 최우선변제금의 액수 역시 소액임차인이 인지하지 못하는 선순위근저당권설정시가 아닌 임차인이 계약을 맺은 시점의 최우선변제금을 적용토록 하여 소액임차인을 보호하고자 하는 법의 취지에 부합되도록 하고자 함(안 제8조제4항 및 제5항).\n",
      "\t\t\t\t\t\t\n"
     ]
    }
   ],
   "source": [
    "t = query_to_pinecone(\"양육권\", 3)\n",
    "for i in t:\n",
    "    print(i)"
   ]
  },
  {
   "cell_type": "code",
   "execution_count": null,
   "id": "8b311450",
   "metadata": {},
   "outputs": [],
   "source": []
  },
  {
   "cell_type": "code",
   "execution_count": null,
   "id": "62e19200",
   "metadata": {},
   "outputs": [],
   "source": []
  },
  {
   "cell_type": "code",
   "execution_count": null,
   "id": "5e7dc73e",
   "metadata": {},
   "outputs": [],
   "source": []
  }
 ],
 "metadata": {
  "kernelspec": {
   "display_name": "Python 3 (ipykernel)",
   "language": "python",
   "name": "python3"
  },
  "language_info": {
   "codemirror_mode": {
    "name": "ipython",
    "version": 3
   },
   "file_extension": ".py",
   "mimetype": "text/x-python",
   "name": "python",
   "nbconvert_exporter": "python",
   "pygments_lexer": "ipython3",
   "version": "3.7.13"
  }
 },
 "nbformat": 4,
 "nbformat_minor": 5
}
